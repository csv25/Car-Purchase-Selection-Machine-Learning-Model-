{
 "cells": [
  {
   "cell_type": "markdown",
   "id": "025189ee",
   "metadata": {},
   "source": [
    "## Final Project BAS 221\n",
    "\n",
    "Name: Carlos Steveen Vargas\n",
    "\n",
    "Date: 10/08/2021\n",
    "\n",
    "Class: BAS 221"
   ]
  },
  {
   "cell_type": "markdown",
   "id": "4b168887",
   "metadata": {},
   "source": [
    "## Step 1 - Import and Inspect the data. \n",
    "\n",
    "- what are the data types\n",
    "- how large is the dataset missing data?\n",
    "- what values are for each column?"
   ]
  },
  {
   "cell_type": "code",
   "execution_count": 1,
   "id": "e2ca3d8a",
   "metadata": {},
   "outputs": [],
   "source": [
    "import pandas as pd"
   ]
  },
  {
   "cell_type": "code",
   "execution_count": 2,
   "id": "cd959a46",
   "metadata": {},
   "outputs": [],
   "source": [
    "df = pd.read_csv('used_car_auction.csv')"
   ]
  },
  {
   "cell_type": "code",
   "execution_count": 3,
   "id": "56300d4c",
   "metadata": {},
   "outputs": [
    {
     "data": {
      "text/plain": [
       "RefId                      int64\n",
       "IsBadBuy                   int64\n",
       "PurchDate                 object\n",
       "Auction                   object\n",
       "VehYear                    int64\n",
       "VehicleAge                 int64\n",
       "Make                      object\n",
       "Model                     object\n",
       "Trim                      object\n",
       "SubModel                  object\n",
       "Color                     object\n",
       "Transmission              object\n",
       "WheelTypeID              float64\n",
       "WheelType                 object\n",
       "VehOdo                     int64\n",
       "Nationality               object\n",
       "Size                      object\n",
       "TopThree AmericanName     object\n",
       "MMR Current AvgPrice     float64\n",
       "PRIMEUNIT                 object\n",
       "AUCGUART                  object\n",
       "BYRNO                      int64\n",
       "VNZIP1                     int64\n",
       "VNST                      object\n",
       "VehBCost                 float64\n",
       "IsOnlineSale               int64\n",
       "WarrantyCost               int64\n",
       "dtype: object"
      ]
     },
     "execution_count": 3,
     "metadata": {},
     "output_type": "execute_result"
    }
   ],
   "source": [
    "df.dtypes"
   ]
  },
  {
   "cell_type": "code",
   "execution_count": 4,
   "id": "4c30d903",
   "metadata": {},
   "outputs": [
    {
     "data": {
      "text/plain": [
       "RefId                       0\n",
       "IsBadBuy                    0\n",
       "PurchDate                   0\n",
       "Auction                     0\n",
       "VehYear                     0\n",
       "VehicleAge                  0\n",
       "Make                        0\n",
       "Model                       0\n",
       "Trim                      243\n",
       "SubModel                    1\n",
       "Color                       1\n",
       "Transmission                1\n",
       "WheelTypeID               325\n",
       "WheelType                 325\n",
       "VehOdo                      0\n",
       "Nationality                 0\n",
       "Size                        0\n",
       "TopThree AmericanName       0\n",
       "MMR Current AvgPrice       21\n",
       "PRIMEUNIT                7113\n",
       "AUCGUART                 7113\n",
       "BYRNO                       0\n",
       "VNZIP1                      0\n",
       "VNST                        0\n",
       "VehBCost                    0\n",
       "IsOnlineSale                0\n",
       "WarrantyCost                0\n",
       "dtype: int64"
      ]
     },
     "execution_count": 4,
     "metadata": {},
     "output_type": "execute_result"
    }
   ],
   "source": [
    "df.isnull().sum()"
   ]
  },
  {
   "cell_type": "code",
   "execution_count": 5,
   "id": "ca167151",
   "metadata": {},
   "outputs": [
    {
     "data": {
      "text/plain": [
       "(7477, 27)"
      ]
     },
     "execution_count": 5,
     "metadata": {},
     "output_type": "execute_result"
    }
   ],
   "source": [
    "df.shape"
   ]
  },
  {
   "cell_type": "markdown",
   "id": "be81d2e9",
   "metadata": {},
   "source": [
    "### Observation: The titles have spaces between them, let's fix that"
   ]
  },
  {
   "cell_type": "code",
   "execution_count": 6,
   "id": "8707040c",
   "metadata": {},
   "outputs": [],
   "source": [
    "df.columns = df.columns.str.replace(' ', '_')"
   ]
  },
  {
   "cell_type": "code",
   "execution_count": 7,
   "id": "50074f4e",
   "metadata": {},
   "outputs": [
    {
     "data": {
      "text/plain": [
       "Index(['RefId', 'IsBadBuy', 'PurchDate', 'Auction', 'VehYear', 'VehicleAge',\n",
       "       'Make', 'Model', 'Trim', 'SubModel', 'Color', 'Transmission',\n",
       "       'WheelTypeID', 'WheelType', 'VehOdo', 'Nationality', 'Size',\n",
       "       'TopThree_AmericanName', 'MMR_Current_AvgPrice', 'PRIMEUNIT',\n",
       "       'AUCGUART', 'BYRNO', 'VNZIP1', 'VNST', 'VehBCost', 'IsOnlineSale',\n",
       "       'WarrantyCost'],\n",
       "      dtype='object')"
      ]
     },
     "execution_count": 7,
     "metadata": {},
     "output_type": "execute_result"
    }
   ],
   "source": [
    "df.columns"
   ]
  },
  {
   "cell_type": "code",
   "execution_count": 8,
   "id": "9ac7ece4",
   "metadata": {},
   "outputs": [
    {
     "data": {
      "text/plain": [
       "RefId                       0\n",
       "IsBadBuy                    0\n",
       "PurchDate                   0\n",
       "Auction                     0\n",
       "VehYear                     0\n",
       "VehicleAge                  0\n",
       "Make                        0\n",
       "Model                       0\n",
       "Trim                      243\n",
       "SubModel                    1\n",
       "Color                       1\n",
       "Transmission                1\n",
       "WheelTypeID               325\n",
       "WheelType                 325\n",
       "VehOdo                      0\n",
       "Nationality                 0\n",
       "Size                        0\n",
       "TopThree_AmericanName       0\n",
       "MMR_Current_AvgPrice       21\n",
       "PRIMEUNIT                7113\n",
       "AUCGUART                 7113\n",
       "BYRNO                       0\n",
       "VNZIP1                      0\n",
       "VNST                        0\n",
       "VehBCost                    0\n",
       "IsOnlineSale                0\n",
       "WarrantyCost                0\n",
       "dtype: int64"
      ]
     },
     "execution_count": 8,
     "metadata": {},
     "output_type": "execute_result"
    }
   ],
   "source": [
    "df.isnull().sum()"
   ]
  },
  {
   "cell_type": "code",
   "execution_count": 9,
   "id": "991441ec",
   "metadata": {},
   "outputs": [
    {
     "data": {
      "text/plain": [
       "(7477, 27)"
      ]
     },
     "execution_count": 9,
     "metadata": {},
     "output_type": "execute_result"
    }
   ],
   "source": [
    "df.shape"
   ]
  },
  {
   "cell_type": "code",
   "execution_count": 10,
   "id": "5e1365d0",
   "metadata": {},
   "outputs": [
    {
     "data": {
      "text/plain": [
       "Index(['RefId', 'IsBadBuy', 'PurchDate', 'Auction', 'VehYear', 'VehicleAge',\n",
       "       'Make', 'Model', 'Trim', 'SubModel', 'Color', 'Transmission',\n",
       "       'WheelTypeID', 'WheelType', 'VehOdo', 'Nationality', 'Size',\n",
       "       'TopThree_AmericanName', 'MMR_Current_AvgPrice', 'PRIMEUNIT',\n",
       "       'AUCGUART', 'BYRNO', 'VNZIP1', 'VNST', 'VehBCost', 'IsOnlineSale',\n",
       "       'WarrantyCost'],\n",
       "      dtype='object')"
      ]
     },
     "execution_count": 10,
     "metadata": {},
     "output_type": "execute_result"
    }
   ],
   "source": [
    "df.columns"
   ]
  },
  {
   "cell_type": "code",
   "execution_count": 11,
   "id": "c3c6cc77",
   "metadata": {},
   "outputs": [
    {
     "data": {
      "text/plain": [
       "7477"
      ]
     },
     "execution_count": 11,
     "metadata": {},
     "output_type": "execute_result"
    }
   ],
   "source": [
    "#RefId\n",
    "dfunique = df['RefId'].nunique()\n",
    "dfunique"
   ]
  },
  {
   "cell_type": "code",
   "execution_count": 12,
   "id": "3349912b",
   "metadata": {},
   "outputs": [
    {
     "data": {
      "text/plain": [
       "0    6540\n",
       "1     937\n",
       "Name: IsBadBuy, dtype: int64"
      ]
     },
     "execution_count": 12,
     "metadata": {},
     "output_type": "execute_result"
    }
   ],
   "source": [
    "IsBadBuy = df['IsBadBuy'].value_counts()\n",
    "IsBadBuy\n",
    "#this could be a target variable"
   ]
  },
  {
   "cell_type": "code",
   "execution_count": 13,
   "id": "ed7f5148",
   "metadata": {},
   "outputs": [
    {
     "data": {
      "text/plain": [
       "10/20/2010    50\n",
       "11/23/2010    47\n",
       "12/8/2010     42\n",
       "10/13/2010    39\n",
       "10/28/2009    37\n",
       "              ..\n",
       "1/8/2010       1\n",
       "1/23/2009      1\n",
       "7/24/2009      1\n",
       "1/9/2009       1\n",
       "6/22/2009      1\n",
       "Name: PurchDate, Length: 509, dtype: int64"
      ]
     },
     "execution_count": 13,
     "metadata": {},
     "output_type": "execute_result"
    }
   ],
   "source": [
    "PurchDate = df.PurchDate.value_counts()\n",
    "PurchDate\n",
    "## there are a lot of low frequency counts, let's drop this column"
   ]
  },
  {
   "cell_type": "code",
   "execution_count": 14,
   "id": "519e158a",
   "metadata": {},
   "outputs": [
    {
     "data": {
      "text/plain": [
       "509"
      ]
     },
     "execution_count": 14,
     "metadata": {},
     "output_type": "execute_result"
    }
   ],
   "source": [
    "PurchDate = df.PurchDate.nunique()\n",
    "PurchDate"
   ]
  },
  {
   "cell_type": "code",
   "execution_count": 15,
   "id": "9ca48cd2",
   "metadata": {},
   "outputs": [
    {
     "data": {
      "text/plain": [
       "MANHEIM    4256\n",
       "OTHER      1825\n",
       "ADESA      1396\n",
       "Name: Auction, dtype: int64"
      ]
     },
     "execution_count": 15,
     "metadata": {},
     "output_type": "execute_result"
    }
   ],
   "source": [
    "auction = df['Auction'].value_counts()\n",
    "auction"
   ]
  },
  {
   "cell_type": "code",
   "execution_count": 16,
   "id": "9561fa1f",
   "metadata": {},
   "outputs": [
    {
     "data": {
      "text/plain": [
       "2001     158\n",
       "2002     367\n",
       "2003     604\n",
       "2004     974\n",
       "2005    1603\n",
       "2006    1792\n",
       "2007    1199\n",
       "2008     691\n",
       "2009      89\n",
       "Name: VehYear, dtype: int64"
      ]
     },
     "execution_count": 16,
     "metadata": {},
     "output_type": "execute_result"
    }
   ],
   "source": [
    "vehyear = df['VehYear'].value_counts().sort_index()\n",
    "vehyear"
   ]
  },
  {
   "cell_type": "code",
   "execution_count": 17,
   "id": "f4da2c39",
   "metadata": {},
   "outputs": [
    {
     "data": {
      "text/plain": [
       "1     328\n",
       "2     870\n",
       "3    1673\n",
       "4    1757\n",
       "5    1285\n",
       "6     790\n",
       "7     467\n",
       "8     249\n",
       "9      58\n",
       "Name: VehicleAge, dtype: int64"
      ]
     },
     "execution_count": 17,
     "metadata": {},
     "output_type": "execute_result"
    }
   ],
   "source": [
    "VehicleAge = df['VehicleAge'].value_counts().sort_index()\n",
    "VehicleAge       "
   ]
  },
  {
   "cell_type": "code",
   "execution_count": 18,
   "id": "088bf5fe",
   "metadata": {},
   "outputs": [
    {
     "data": {
      "text/plain": [
       "MINI             1\n",
       "VOLVO            2\n",
       "ACURA            3\n",
       "INFINITI         3\n",
       "LEXUS            3\n",
       "CADILLAC         3\n",
       "SUBARU           7\n",
       "ISUZU            7\n",
       "LINCOLN         11\n",
       "SCION           13\n",
       "OLDSMOBILE      21\n",
       "VOLKSWAGEN      27\n",
       "HONDA           53\n",
       "GMC             68\n",
       "BUICK           71\n",
       "MERCURY         87\n",
       "TOYOTA          97\n",
       "MAZDA          103\n",
       "MITSUBISHI     106\n",
       "SUZUKI         133\n",
       "HYUNDAI        171\n",
       "JEEP           183\n",
       "SATURN         208\n",
       "NISSAN         234\n",
       "KIA            264\n",
       "PONTIAC        450\n",
       "CHRYSLER       901\n",
       "FORD          1133\n",
       "DODGE         1344\n",
       "CHEVROLET     1770\n",
       "Name: Make, dtype: int64"
      ]
     },
     "execution_count": 18,
     "metadata": {},
     "output_type": "execute_result"
    }
   ],
   "source": [
    "Make = df['Make'].value_counts().sort_values()\n",
    "Make\n",
    "#low frequency counts"
   ]
  },
  {
   "cell_type": "code",
   "execution_count": 19,
   "id": "a6b57b62",
   "metadata": {},
   "outputs": [
    {
     "data": {
      "text/plain": [
       "CAMRY SOLARA V6 3.3L      1\n",
       "PROTEGE 2.0L I-4 EFI      1\n",
       "YUKON 2WD V8 4.8L V8      1\n",
       "FOCUS 2.3L I4 SFI         1\n",
       "PILOT                     1\n",
       "                       ... \n",
       "SEBRING 4C              126\n",
       "TAURUS                  138\n",
       "CALIBER                 150\n",
       "IMPALA                  201\n",
       "PT CRUISER              251\n",
       "Name: Model, Length: 618, dtype: int64"
      ]
     },
     "execution_count": 19,
     "metadata": {},
     "output_type": "execute_result"
    }
   ],
   "source": [
    "Model = df['Model'].value_counts().sort_values()\n",
    "Model\n",
    "#low frequency counts, might be good do drop"
   ]
  },
  {
   "cell_type": "code",
   "execution_count": 20,
   "id": "5aa8536c",
   "metadata": {},
   "outputs": [
    {
     "data": {
      "text/plain": [
       "4D SEDAN               1535\n",
       "4D SEDAN LS             451\n",
       "4D SEDAN SE             390\n",
       "4D WAGON                253\n",
       "4D SUV 4.2L LS          133\n",
       "                       ... \n",
       "4D SEDAN SEL FFV          1\n",
       "4D UTILITY 4.2L SLT       1\n",
       "4D SUV 2.4L LT            1\n",
       "2D COUPE EX 5SP           1\n",
       "4D WAGON R/T AWD          1\n",
       "Name: SubModel, Length: 484, dtype: int64"
      ]
     },
     "execution_count": 20,
     "metadata": {},
     "output_type": "execute_result"
    }
   ],
   "source": [
    "SubModel = df['SubModel'].value_counts()\n",
    "SubModel\n",
    "#I'm not super sure if the submodel would have a high predictive power, so I might drop this column"
   ]
  },
  {
   "cell_type": "code",
   "execution_count": 21,
   "id": "10a23050",
   "metadata": {},
   "outputs": [
    {
     "data": {
      "text/plain": [
       "SILVER       1518\n",
       "WHITE        1260\n",
       "BLUE         1046\n",
       "BLACK         802\n",
       "GREY          800\n",
       "RED           624\n",
       "GOLD          512\n",
       "GREEN         348\n",
       "MAROON        216\n",
       "BEIGE         167\n",
       "ORANGE         43\n",
       "BROWN          41\n",
       "PURPLE         40\n",
       "YELLOW         25\n",
       "OTHER          24\n",
       "NOT AVAIL      10\n",
       "Name: Color, dtype: int64"
      ]
     },
     "execution_count": 21,
     "metadata": {},
     "output_type": "execute_result"
    }
   ],
   "source": [
    "Color = df['Color'].value_counts()\n",
    "Color"
   ]
  },
  {
   "cell_type": "code",
   "execution_count": 22,
   "id": "16e08662",
   "metadata": {},
   "outputs": [
    {
     "data": {
      "text/plain": [
       "AUTO      7204\n",
       "MANUAL     272\n",
       "Name: Transmission, dtype: int64"
      ]
     },
     "execution_count": 22,
     "metadata": {},
     "output_type": "execute_result"
    }
   ],
   "source": [
    "Transmission = df['Transmission'].value_counts()\n",
    "Transmission"
   ]
  },
  {
   "cell_type": "code",
   "execution_count": 23,
   "id": "bfb87430",
   "metadata": {},
   "outputs": [
    {
     "data": {
      "text/plain": [
       "70621    4\n",
       "79326    3\n",
       "82149    3\n",
       "77011    3\n",
       "84487    3\n",
       "        ..\n",
       "68236    1\n",
       "78787    1\n",
       "22515    1\n",
       "86733    1\n",
       "66855    1\n",
       "Name: VehOdo, Length: 6919, dtype: int64"
      ]
     },
     "execution_count": 23,
     "metadata": {},
     "output_type": "execute_result"
    }
   ],
   "source": [
    "VehOdo = df['VehOdo'].value_counts()\n",
    "VehOdo"
   ]
  },
  {
   "cell_type": "code",
   "execution_count": 24,
   "id": "ae9ed523",
   "metadata": {},
   "outputs": [
    {
     "data": {
      "text/plain": [
       "AMERICAN          6250\n",
       "OTHER ASIAN        813\n",
       "TOP LINE ASIAN     384\n",
       "OTHER               30\n",
       "Name: Nationality, dtype: int64"
      ]
     },
     "execution_count": 24,
     "metadata": {},
     "output_type": "execute_result"
    }
   ],
   "source": [
    "Nationality = df['Nationality'].value_counts()\n",
    "Nationality\n",
    "#the nationality is mainly american, so I might also drop this column"
   ]
  },
  {
   "cell_type": "code",
   "execution_count": 25,
   "id": "260d6519",
   "metadata": {},
   "outputs": [
    {
     "data": {
      "text/plain": [
       "MEDIUM         3130\n",
       "MEDIUM SUV      864\n",
       "LARGE           857\n",
       "COMPACT         718\n",
       "VAN             625\n",
       "LARGE TRUCK     323\n",
       "SMALL SUV       251\n",
       "SPECIALTY       206\n",
       "CROSSOVER       174\n",
       "LARGE SUV       158\n",
       "SPORTS           87\n",
       "SMALL TRUCK      84\n",
       "Name: Size, dtype: int64"
      ]
     },
     "execution_count": 25,
     "metadata": {},
     "output_type": "execute_result"
    }
   ],
   "source": [
    "Size = df['Size'].value_counts()\n",
    "Size"
   ]
  },
  {
   "cell_type": "code",
   "execution_count": 26,
   "id": "d19bf834",
   "metadata": {},
   "outputs": [
    {
     "data": {
      "text/plain": [
       "GM          2591\n",
       "CHRYSLER    2428\n",
       "FORD        1231\n",
       "OTHER       1227\n",
       "Name: TopThree_AmericanName, dtype: int64"
      ]
     },
     "execution_count": 26,
     "metadata": {},
     "output_type": "execute_result"
    }
   ],
   "source": [
    "TopThree_AmericanName = df['TopThree_AmericanName'].value_counts()\n",
    "TopThree_AmericanName"
   ]
  },
  {
   "cell_type": "code",
   "execution_count": 27,
   "id": "8b801a3a",
   "metadata": {},
   "outputs": [
    {
     "data": {
      "text/plain": [
       "0.0        54\n",
       "5480.0     25\n",
       "5569.0     16\n",
       "6311.0     16\n",
       "7644.0     13\n",
       "           ..\n",
       "2673.0      1\n",
       "5192.0      1\n",
       "12391.0     1\n",
       "10001.0     1\n",
       "7730.0      1\n",
       "Name: MMR_Current_AvgPrice, Length: 4526, dtype: int64"
      ]
     },
     "execution_count": 27,
     "metadata": {},
     "output_type": "execute_result"
    }
   ],
   "source": [
    "MMR_Current_AvgPrice = df['MMR_Current_AvgPrice'].value_counts()\n",
    "MMR_Current_AvgPrice"
   ]
  },
  {
   "cell_type": "code",
   "execution_count": 28,
   "id": "5879a4c9",
   "metadata": {},
   "outputs": [
    {
     "data": {
      "text/plain": [
       "18091      1\n",
       "10410      1\n",
       "1035       1\n",
       "1121       1\n",
       "1125       2\n",
       "        ... \n",
       "19619    300\n",
       "22916    319\n",
       "3453     324\n",
       "18880    365\n",
       "99761    421\n",
       "Name: BYRNO, Length: 61, dtype: int64"
      ]
     },
     "execution_count": 28,
     "metadata": {},
     "output_type": "execute_result"
    }
   ],
   "source": [
    "BYRNO = df['BYRNO'].value_counts().sort_values()\n",
    "BYRNO\n",
    "#I want to drop this as well"
   ]
  },
  {
   "cell_type": "code",
   "execution_count": 29,
   "id": "6acad5e3",
   "metadata": {},
   "outputs": [
    {
     "data": {
      "text/plain": [
       "32824    391\n",
       "27542    343\n",
       "74135    253\n",
       "80022    245\n",
       "29697    237\n",
       "        ... \n",
       "77301      1\n",
       "48265      1\n",
       "32503      1\n",
       "32225      1\n",
       "64153      1\n",
       "Name: VNZIP1, Length: 135, dtype: int64"
      ]
     },
     "execution_count": 29,
     "metadata": {},
     "output_type": "execute_result"
    }
   ],
   "source": [
    "VNZIP1 = df['VNZIP1'].value_counts()\n",
    "VNZIP1\n",
    "# I will also drop this variable"
   ]
  },
  {
   "cell_type": "code",
   "execution_count": 30,
   "id": "7805c129",
   "metadata": {},
   "outputs": [
    {
     "data": {
      "text/plain": [
       "32824    391\n",
       "27542    343\n",
       "74135    253\n",
       "80022    245\n",
       "29697    237\n",
       "        ... \n",
       "77301      1\n",
       "48265      1\n",
       "32503      1\n",
       "32225      1\n",
       "64153      1\n",
       "Name: VNZIP1, Length: 135, dtype: int64"
      ]
     },
     "execution_count": 30,
     "metadata": {},
     "output_type": "execute_result"
    }
   ],
   "source": [
    "VNZIP1 = df['VNZIP1'].value_counts()\n",
    "VNZIP1\n",
    "## low frequency, might be good to drop"
   ]
  },
  {
   "cell_type": "code",
   "execution_count": 31,
   "id": "3583a418",
   "metadata": {},
   "outputs": [
    {
     "data": {
      "text/plain": [
       "7500.0     73\n",
       "7200.0     70\n",
       "7000.0     64\n",
       "6000.0     63\n",
       "6500.0     61\n",
       "           ..\n",
       "10340.0     1\n",
       "3495.0      1\n",
       "9360.0      1\n",
       "10030.0     1\n",
       "3505.0      1\n",
       "Name: VehBCost, Length: 1467, dtype: int64"
      ]
     },
     "execution_count": 31,
     "metadata": {},
     "output_type": "execute_result"
    }
   ],
   "source": [
    "VehBCost = df['VehBCost'].value_counts()\n",
    "VehBCost"
   ]
  },
  {
   "cell_type": "code",
   "execution_count": 32,
   "id": "91ced814",
   "metadata": {},
   "outputs": [
    {
     "data": {
      "text/plain": [
       "0    7294\n",
       "1     183\n",
       "Name: IsOnlineSale, dtype: int64"
      ]
     },
     "execution_count": 32,
     "metadata": {},
     "output_type": "execute_result"
    }
   ],
   "source": [
    "IsOnlineSale = df['IsOnlineSale'].value_counts()\n",
    "IsOnlineSale"
   ]
  },
  {
   "cell_type": "code",
   "execution_count": 33,
   "id": "d62e3a4b",
   "metadata": {},
   "outputs": [
    {
     "data": {
      "text/plain": [
       "920     310\n",
       "1389    226\n",
       "1974    217\n",
       "2152    211\n",
       "1155    207\n",
       "       ... \n",
       "1205      1\n",
       "970       1\n",
       "6192      1\n",
       "2735      1\n",
       "2499      1\n",
       "Name: WarrantyCost, Length: 232, dtype: int64"
      ]
     },
     "execution_count": 33,
     "metadata": {},
     "output_type": "execute_result"
    }
   ],
   "source": [
    "WarrantyCost = df['WarrantyCost'].value_counts()\n",
    "WarrantyCost"
   ]
  },
  {
   "cell_type": "markdown",
   "id": "fd348616",
   "metadata": {},
   "source": [
    "# Step 2 - Remove variables with high null counts or (in your judgement have) low predictive power\n",
    "\n",
    "- Trim: Trim Vehicle Trim Level\n",
    "- WheelTypeID : WheelTypeID The type id of the vehicle wheel\n",
    "- WheelType : WheelType The vehicle wheel type description (Alloy, Covers)\n",
    "- PRIMEUNIT : Identifies if the vehicle would have a higher demand than a standard purchase\n",
    "- AUCGUART : The level guarntee provided by auction for the vehicle (Green light - Guaranteed/arbitratable, Yellow Light - caution/issue, red light - sold as is)\n",
    "- SubModel : Vehicle Submodel\n",
    "- Nationality : The Manufacturer's country\n",
    "- BYRNO : Unique number assigned to the buyer that purchased the vehicle\n",
    "- VNZIP1 : Zipcode where the car was purchased\n",
    "- Model = Vehicle Model\n",
    "- PurchDate = The Date the vehicle was Purchased at Auction"
   ]
  },
  {
   "cell_type": "code",
   "execution_count": 34,
   "id": "7b2615e2",
   "metadata": {},
   "outputs": [],
   "source": [
    "df.drop(['Trim','WheelTypeID','WheelType', 'PRIMEUNIT','AUCGUART', 'SubModel', 'Nationality', 'BYRNO', 'VNZIP1', 'Model', 'PurchDate'], axis=1, inplace=True)"
   ]
  },
  {
   "cell_type": "code",
   "execution_count": 35,
   "id": "fc985753",
   "metadata": {},
   "outputs": [
    {
     "data": {
      "text/plain": [
       "RefId                     0\n",
       "IsBadBuy                  0\n",
       "Auction                   0\n",
       "VehYear                   0\n",
       "VehicleAge                0\n",
       "Make                      0\n",
       "Color                     1\n",
       "Transmission              1\n",
       "VehOdo                    0\n",
       "Size                      0\n",
       "TopThree_AmericanName     0\n",
       "MMR_Current_AvgPrice     21\n",
       "VNST                      0\n",
       "VehBCost                  0\n",
       "IsOnlineSale              0\n",
       "WarrantyCost              0\n",
       "dtype: int64"
      ]
     },
     "execution_count": 35,
     "metadata": {},
     "output_type": "execute_result"
    }
   ],
   "source": [
    "df.isnull().sum()"
   ]
  },
  {
   "cell_type": "code",
   "execution_count": 36,
   "id": "751ee18a",
   "metadata": {},
   "outputs": [
    {
     "data": {
      "text/plain": [
       "(7477, 16)"
      ]
     },
     "execution_count": 36,
     "metadata": {},
     "output_type": "execute_result"
    }
   ],
   "source": [
    "df.shape"
   ]
  },
  {
   "cell_type": "code",
   "execution_count": 37,
   "id": "107ff60e",
   "metadata": {},
   "outputs": [],
   "source": [
    "df = df.dropna()"
   ]
  },
  {
   "cell_type": "code",
   "execution_count": 38,
   "id": "88eaf51a",
   "metadata": {},
   "outputs": [
    {
     "data": {
      "text/plain": [
       "(7455, 16)"
      ]
     },
     "execution_count": 38,
     "metadata": {},
     "output_type": "execute_result"
    }
   ],
   "source": [
    "df.shape"
   ]
  },
  {
   "cell_type": "code",
   "execution_count": 39,
   "id": "e30e9eb9",
   "metadata": {},
   "outputs": [
    {
     "data": {
      "text/plain": [
       "RefId                    0\n",
       "IsBadBuy                 0\n",
       "Auction                  0\n",
       "VehYear                  0\n",
       "VehicleAge               0\n",
       "Make                     0\n",
       "Color                    0\n",
       "Transmission             0\n",
       "VehOdo                   0\n",
       "Size                     0\n",
       "TopThree_AmericanName    0\n",
       "MMR_Current_AvgPrice     0\n",
       "VNST                     0\n",
       "VehBCost                 0\n",
       "IsOnlineSale             0\n",
       "WarrantyCost             0\n",
       "dtype: int64"
      ]
     },
     "execution_count": 39,
     "metadata": {},
     "output_type": "execute_result"
    }
   ],
   "source": [
    "df.isnull().sum()"
   ]
  },
  {
   "cell_type": "code",
   "execution_count": 40,
   "id": "81afb302",
   "metadata": {},
   "outputs": [
    {
     "data": {
      "text/plain": [
       "Index(['RefId', 'IsBadBuy', 'Auction', 'VehYear', 'VehicleAge', 'Make',\n",
       "       'Color', 'Transmission', 'VehOdo', 'Size', 'TopThree_AmericanName',\n",
       "       'MMR_Current_AvgPrice', 'VNST', 'VehBCost', 'IsOnlineSale',\n",
       "       'WarrantyCost'],\n",
       "      dtype='object')"
      ]
     },
     "execution_count": 40,
     "metadata": {},
     "output_type": "execute_result"
    }
   ],
   "source": [
    "df.columns"
   ]
  },
  {
   "cell_type": "markdown",
   "id": "7082b003",
   "metadata": {},
   "source": [
    "## Observation: \n",
    "- We have a clean data set that has no null values, usable title names, and high predictive power variables."
   ]
  },
  {
   "cell_type": "markdown",
   "id": "f1219017",
   "metadata": {},
   "source": [
    "## Step 3 - Change variable types if necessary"
   ]
  },
  {
   "cell_type": "code",
   "execution_count": 41,
   "id": "9932e2b2",
   "metadata": {},
   "outputs": [],
   "source": [
    "df['WarrantyCost'] = df['WarrantyCost'].astype(float)"
   ]
  },
  {
   "cell_type": "code",
   "execution_count": 42,
   "id": "7e4b3768",
   "metadata": {},
   "outputs": [
    {
     "data": {
      "text/plain": [
       "RefId                      int64\n",
       "IsBadBuy                   int64\n",
       "Auction                   object\n",
       "VehYear                    int64\n",
       "VehicleAge                 int64\n",
       "Make                      object\n",
       "Color                     object\n",
       "Transmission              object\n",
       "VehOdo                     int64\n",
       "Size                      object\n",
       "TopThree_AmericanName     object\n",
       "MMR_Current_AvgPrice     float64\n",
       "VNST                      object\n",
       "VehBCost                 float64\n",
       "IsOnlineSale               int64\n",
       "WarrantyCost             float64\n",
       "dtype: object"
      ]
     },
     "execution_count": 42,
     "metadata": {},
     "output_type": "execute_result"
    }
   ],
   "source": [
    "df.dtypes"
   ]
  },
  {
   "cell_type": "markdown",
   "id": "23e4f7cc",
   "metadata": {},
   "source": [
    "## Step 4 - Feature engineering \n",
    "\n",
    "- Create any new data variables you think would be useful (you can look back at those you did in Assignment #4 and/or use others)\n",
    "\n",
    "- Price Difference: (MMR - VehBCost; negative values indicates a \"good deal\")\n",
    "\n",
    "- Miles Per Year: (VehOdo/ VehicleAge)\n",
    "\n",
    "- Warranty Percent of Cost: (WarrantyCost / VehBCost)\n",
    "\n",
    "- Vehicle Type (use replace function on Size: Car/Truck/SUV/Van)"
   ]
  },
  {
   "cell_type": "code",
   "execution_count": 43,
   "id": "f255ce11",
   "metadata": {},
   "outputs": [],
   "source": [
    "df['Price_Difference'] = df['MMR_Current_AvgPrice'] - df['VehBCost']"
   ]
  },
  {
   "cell_type": "code",
   "execution_count": 44,
   "id": "759e1044",
   "metadata": {},
   "outputs": [],
   "source": [
    "df['Miles_Per_Year'] = df['VehOdo'] / df['VehicleAge']"
   ]
  },
  {
   "cell_type": "code",
   "execution_count": 45,
   "id": "26103941",
   "metadata": {},
   "outputs": [],
   "source": [
    "df['Warranty_Percent_of_Cost'] = df['WarrantyCost'] / df['VehBCost']"
   ]
  },
  {
   "cell_type": "code",
   "execution_count": 46,
   "id": "bfe17e45",
   "metadata": {},
   "outputs": [
    {
     "data": {
      "text/plain": [
       "RefId                         int64\n",
       "IsBadBuy                      int64\n",
       "Auction                      object\n",
       "VehYear                       int64\n",
       "VehicleAge                    int64\n",
       "Make                         object\n",
       "Color                        object\n",
       "Transmission                 object\n",
       "VehOdo                        int64\n",
       "Size                         object\n",
       "TopThree_AmericanName        object\n",
       "MMR_Current_AvgPrice        float64\n",
       "VNST                         object\n",
       "VehBCost                    float64\n",
       "IsOnlineSale                  int64\n",
       "WarrantyCost                float64\n",
       "Price_Difference            float64\n",
       "Miles_Per_Year              float64\n",
       "Warranty_Percent_of_Cost    float64\n",
       "dtype: object"
      ]
     },
     "execution_count": 46,
     "metadata": {},
     "output_type": "execute_result"
    }
   ],
   "source": [
    "df.dtypes"
   ]
  },
  {
   "cell_type": "markdown",
   "id": "ad797197",
   "metadata": {},
   "source": [
    "## Step 5 - For any values of categorical variables with low frequency counts, replace those values with 'Other'"
   ]
  },
  {
   "cell_type": "code",
   "execution_count": 47,
   "id": "a2a95bd2",
   "metadata": {},
   "outputs": [
    {
     "data": {
      "text/plain": [
       "HONDA           53\n",
       "GMC             68\n",
       "BUICK           71\n",
       "MERCURY         87\n",
       "TOYOTA          96\n",
       "Other          101\n",
       "MAZDA          103\n",
       "MITSUBISHI     106\n",
       "SUZUKI         133\n",
       "HYUNDAI        171\n",
       "JEEP           181\n",
       "SATURN         208\n",
       "NISSAN         234\n",
       "KIA            264\n",
       "PONTIAC        449\n",
       "CHRYSLER       892\n",
       "FORD          1131\n",
       "DODGE         1341\n",
       "CHEVROLET     1766\n",
       "Name: Make, dtype: int64"
      ]
     },
     "execution_count": 47,
     "metadata": {},
     "output_type": "execute_result"
    }
   ],
   "source": [
    "df['Make'].replace([ 'VOLKSWAGEN','OLDSMOBILE', 'CADILLAC', 'SCION', 'LEXUS', 'ISUZU', 'LINCOLN',\n",
    "                    'INFINITI', 'MINI', 'ACURA', 'VOLVO', 'SUBARU'], 'Other', inplace=True)\n",
    "df['Make'].value_counts().sort_values()"
   ]
  },
  {
   "cell_type": "markdown",
   "id": "4a52d7a7",
   "metadata": {},
   "source": [
    "## Step 6 - Prepare data for building a decision model \n",
    "- Encode categorical variables handle null values\n",
    "- Handle Null Values\n",
    "  - I have been meticulous on how to handle null values in each column. I have investigated each of the values and counted them. If they had numerous null values, then those columns were dropped. The remaining null values have been deleted from the rows. We have a clean data set.\n",
    "\n"
   ]
  },
  {
   "cell_type": "code",
   "execution_count": 48,
   "id": "f6ff92b0",
   "metadata": {},
   "outputs": [
    {
     "data": {
      "text/plain": [
       "RefId                       0\n",
       "IsBadBuy                    0\n",
       "Auction                     0\n",
       "VehYear                     0\n",
       "VehicleAge                  0\n",
       "Make                        0\n",
       "Color                       0\n",
       "Transmission                0\n",
       "VehOdo                      0\n",
       "Size                        0\n",
       "TopThree_AmericanName       0\n",
       "MMR_Current_AvgPrice        0\n",
       "VNST                        0\n",
       "VehBCost                    0\n",
       "IsOnlineSale                0\n",
       "WarrantyCost                0\n",
       "Price_Difference            0\n",
       "Miles_Per_Year              0\n",
       "Warranty_Percent_of_Cost    0\n",
       "dtype: int64"
      ]
     },
     "execution_count": 48,
     "metadata": {},
     "output_type": "execute_result"
    }
   ],
   "source": [
    "df.isnull().sum()"
   ]
  },
  {
   "cell_type": "markdown",
   "id": "a4ef6529",
   "metadata": {},
   "source": [
    "## Step 7 - Build 3 Decision Models.  For each of these models:\n",
    "- Calculate the metrics for accuracy, precision, recall/sensitivity, f1-score, specificity (true negative rate)\n",
    "- Display the confusion matrix\n",
    "- Explain the model in detail in a Markdown cell\n",
    "- Display the tree graphically"
   ]
  },
  {
   "cell_type": "markdown",
   "id": "e8446da9",
   "metadata": {},
   "source": [
    "## Strategy \n",
    "\n",
    "- I will investigate 3 different decision trees. I want to see which are the most important variables that could predict if it’s a bad car purchase. I will make 3 prediction models.\n",
    " 1. I will have all the variables in the first model to predict if it’s a good or bad buy.\n",
    " 2. I will remove the first most impactful variable and see how powerful it is at predicting a good or bad car purchase.\n",
    " 3. I will remove the second most impactful variable (but keep the first one) and see the changes it makes when predicting a good or bad car purchase. \n",
    " 4. Lastly, I will be picking my champion model to predict a good or a bad car purchase.\n"
   ]
  },
  {
   "cell_type": "code",
   "execution_count": 49,
   "id": "10481977",
   "metadata": {},
   "outputs": [],
   "source": [
    "import pandas as pd\n",
    "import sklearn as sk\n",
    "from sklearn.model_selection import train_test_split\n",
    "import matplotlib.pyplot as plt"
   ]
  },
  {
   "cell_type": "markdown",
   "id": "e81c785c",
   "metadata": {},
   "source": [
    "## First Decision Tree Model\n",
    "- All variables available to predict a good or bad car purchase\n",
    "\n",
    "df = original data frame\n",
    "\n",
    "cars = get dummies data frame"
   ]
  },
  {
   "cell_type": "code",
   "execution_count": 50,
   "id": "b9928036",
   "metadata": {},
   "outputs": [],
   "source": [
    "cars= pd.get_dummies(df)"
   ]
  },
  {
   "cell_type": "code",
   "execution_count": 51,
   "id": "28ea395b",
   "metadata": {},
   "outputs": [],
   "source": [
    "feature_colums = cars.drop('IsBadBuy', axis=1).columns.tolist()"
   ]
  },
  {
   "cell_type": "markdown",
   "id": "e4e68842",
   "metadata": {},
   "source": [
    "We no longer have isBadBuy in the colums so we are good to proceed"
   ]
  },
  {
   "cell_type": "code",
   "execution_count": 52,
   "id": "e777df5c",
   "metadata": {},
   "outputs": [],
   "source": [
    "X = cars[feature_colums] # features\n",
    "y = cars.IsBadBuy # Target variable"
   ]
  },
  {
   "cell_type": "code",
   "execution_count": 53,
   "id": "2add8614",
   "metadata": {},
   "outputs": [],
   "source": [
    "X_train, X_test, y_train, y_test = train_test_split(X , y, test_size=0.33, random_state=1)"
   ]
  },
  {
   "cell_type": "code",
   "execution_count": 54,
   "id": "029adeba",
   "metadata": {},
   "outputs": [],
   "source": [
    "from sklearn import tree"
   ]
  },
  {
   "cell_type": "code",
   "execution_count": 55,
   "id": "da4e9fec",
   "metadata": {},
   "outputs": [],
   "source": [
    "clf = tree.DecisionTreeClassifier(class_weight='balanced', max_depth=2)"
   ]
  },
  {
   "cell_type": "code",
   "execution_count": 56,
   "id": "5bc7fc43",
   "metadata": {},
   "outputs": [],
   "source": [
    "clf = clf.fit(X_train, y_train)"
   ]
  },
  {
   "cell_type": "code",
   "execution_count": 57,
   "id": "81dddfad",
   "metadata": {},
   "outputs": [],
   "source": [
    "from sklearn import metrics"
   ]
  },
  {
   "cell_type": "code",
   "execution_count": 58,
   "id": "3417c6a0",
   "metadata": {},
   "outputs": [],
   "source": [
    "y_pred = clf.predict(X_test)"
   ]
  },
  {
   "cell_type": "code",
   "execution_count": 59,
   "id": "8b2828eb",
   "metadata": {},
   "outputs": [
    {
     "data": {
      "text/plain": [
       "0.642015440877692"
      ]
     },
     "execution_count": 59,
     "metadata": {},
     "output_type": "execute_result"
    }
   ],
   "source": [
    "metrics.accuracy_score(y_test,y_pred)"
   ]
  },
  {
   "cell_type": "code",
   "execution_count": 60,
   "id": "ffd2ba9a",
   "metadata": {},
   "outputs": [
    {
     "data": {
      "text/plain": [
       "array([[1397,  734],\n",
       "       [ 147,  183]], dtype=int64)"
      ]
     },
     "execution_count": 60,
     "metadata": {},
     "output_type": "execute_result"
    }
   ],
   "source": [
    "metrics.confusion_matrix(y_test,y_pred)"
   ]
  },
  {
   "cell_type": "code",
   "execution_count": 61,
   "id": "102d60c0",
   "metadata": {},
   "outputs": [],
   "source": [
    "tn, fp, fn, tp = metrics.confusion_matrix(y_test, y_pred).ravel()"
   ]
  },
  {
   "cell_type": "code",
   "execution_count": 62,
   "id": "d48161e7",
   "metadata": {},
   "outputs": [
    {
     "data": {
      "text/plain": [
       "0.19956379498364232"
      ]
     },
     "execution_count": 62,
     "metadata": {},
     "output_type": "execute_result"
    }
   ],
   "source": [
    "precision = tp / (tp+fp)\n",
    "precision"
   ]
  },
  {
   "cell_type": "code",
   "execution_count": 63,
   "id": "b06aed25",
   "metadata": {},
   "outputs": [
    {
     "data": {
      "text/plain": [
       "0.5545454545454546"
      ]
     },
     "execution_count": 63,
     "metadata": {},
     "output_type": "execute_result"
    }
   ],
   "source": [
    "recall = tp / (tp+fn)\n",
    "recall"
   ]
  },
  {
   "cell_type": "markdown",
   "id": "2e50bfa3",
   "metadata": {},
   "source": [
    "## Classicication Report"
   ]
  },
  {
   "cell_type": "code",
   "execution_count": 64,
   "id": "38112dfe",
   "metadata": {},
   "outputs": [
    {
     "name": "stdout",
     "output_type": "stream",
     "text": [
      "              precision    recall  f1-score   support\n",
      "\n",
      "           0       0.90      0.66      0.76      2131\n",
      "           1       0.20      0.55      0.29       330\n",
      "\n",
      "    accuracy                           0.64      2461\n",
      "   macro avg       0.55      0.61      0.53      2461\n",
      "weighted avg       0.81      0.64      0.70      2461\n",
      "\n"
     ]
    }
   ],
   "source": [
    "print(metrics.classification_report(y_test, y_pred))\n"
   ]
  },
  {
   "cell_type": "code",
   "execution_count": 65,
   "id": "e1da69e2",
   "metadata": {},
   "outputs": [
    {
     "data": {
      "text/plain": [
       "[Text(0.5, 0.8333333333333334, 'node #0\\nVehicleAge <= 4.5\\nsamples = 100.0%\\nvalue = [0.5, 0.5]\\nclass = Goodbuy'),\n",
       " Text(0.25, 0.5, '#1\\nVehOdo <= 72375.5\\n61.4%\\n[0.62, 0.38]\\nGoodbuy'),\n",
       " Text(0.125, 0.16666666666666666, '#2\\n33.4%\\n[0.69, 0.31]\\nGoodbuy'),\n",
       " Text(0.375, 0.16666666666666666, '#3\\n28.0%\\n[0.54, 0.46]\\nGoodbuy'),\n",
       " Text(0.75, 0.5, '#4\\nWarranty_Percent_of_Cost <= 0.32\\n38.6%\\n[0.37, 0.63]\\nBad Buy'),\n",
       " Text(0.625, 0.16666666666666666, '#5\\n29.6%\\n[0.43, 0.57]\\nBad Buy'),\n",
       " Text(0.875, 0.16666666666666666, '#6\\n9.1%\\n[0.25, 0.75]\\nBad Buy')]"
      ]
     },
     "execution_count": 65,
     "metadata": {},
     "output_type": "execute_result"
    },
    {
     "data": {
      "image/png": "[encoded data removed]",
      "text/plain": [
       "<Figure size 640x480 with 1 Axes>"
      ]
     },
     "metadata": {},
     "output_type": "display_data"
    }
   ],
   "source": [
    "tree.plot_tree(clf, max_depth=2,\n",
    "              feature_names = feature_colums,\n",
    "              class_names=['Goodbuy','Bad Buy'],\n",
    "              filled=True, precision=2,\n",
    "              node_ids=True, fontsize=12,\n",
    "              label='root', proportion=True,\n",
    "              impurity=False)\n"
   ]
  },
  {
   "cell_type": "markdown",
   "id": "4a0e07ba",
   "metadata": {},
   "source": [
    "### First Model Interpretation: \n",
    "\n",
    "In the first tree we trained our model with all the variables that we had available and with a max depth of 2. This allowed us to see that if the Vehicle age was less than 4.5 years and the Vehicle Odometer was less than 72,375 miles. Then if these two metrics were met, no matter the choice, it would be a good buy. However, if the vehicle age was less than 4.5 years, but their warranty Precent of Cost was higher than 32% of the car. Then it would be a bad vehicle purchase. \n",
    "\n",
    "We can also see that the precision of our model is 90%, the recall is 55% and the accuracy is 64%. We are not sure if this is the best model. But we will continue to investigate our next model.\n",
    "\n",
    "\n",
    "              precision    recall  f1-score   support\n",
    "\n",
    "           0       0.90      0.66      0.76      2131\n",
    "           1       0.20      0.55      0.29       330\n",
    "\n",
    "    accuracy                           0.64      2461\n",
    "    macro avg      0.55      0.61      0.53      2461\n",
    "    weighted avg   0.81      0.64      0.70      2461"
   ]
  },
  {
   "cell_type": "markdown",
   "id": "bc8ff8a3",
   "metadata": {},
   "source": [
    "### Checking variable importace to predict bad buy vehicles by using the max depth of 2."
   ]
  },
  {
   "cell_type": "code",
   "execution_count": 66,
   "id": "f2eff528",
   "metadata": {},
   "outputs": [
    {
     "data": {
      "text/html": [
       "<div>\n",
       "<style scoped>\n",
       "    .dataframe tbody tr th:only-of-type {\n",
       "        vertical-align: middle;\n",
       "    }\n",
       "\n",
       "    .dataframe tbody tr th {\n",
       "        vertical-align: top;\n",
       "    }\n",
       "\n",
       "    .dataframe thead th {\n",
       "        text-align: right;\n",
       "    }\n",
       "</style>\n",
       "<table border=\"1\" class=\"dataframe\">\n",
       "  <thead>\n",
       "    <tr style=\"text-align: right;\">\n",
       "      <th></th>\n",
       "      <th>0</th>\n",
       "    </tr>\n",
       "  </thead>\n",
       "  <tbody>\n",
       "    <tr>\n",
       "      <th>VehicleAge</th>\n",
       "      <td>0.703188</td>\n",
       "    </tr>\n",
       "    <tr>\n",
       "      <th>Warranty_Percent_of_Cost</th>\n",
       "      <td>0.155696</td>\n",
       "    </tr>\n",
       "    <tr>\n",
       "      <th>VehOdo</th>\n",
       "      <td>0.141116</td>\n",
       "    </tr>\n",
       "    <tr>\n",
       "      <th>RefId</th>\n",
       "      <td>0.000000</td>\n",
       "    </tr>\n",
       "    <tr>\n",
       "      <th>VNST_AL</th>\n",
       "      <td>0.000000</td>\n",
       "    </tr>\n",
       "  </tbody>\n",
       "</table>\n",
       "</div>"
      ],
      "text/plain": [
       "                                 0\n",
       "VehicleAge                0.703188\n",
       "Warranty_Percent_of_Cost  0.155696\n",
       "VehOdo                    0.141116\n",
       "RefId                     0.000000\n",
       "VNST_AL                   0.000000"
      ]
     },
     "execution_count": 66,
     "metadata": {},
     "output_type": "execute_result"
    }
   ],
   "source": [
    "feature_importance = pd.DataFrame(clf.feature_importances_, index = feature_colums).sort_values(0, ascending=False)\n",
    "feature_importance.head(5)"
   ]
  },
  {
   "cell_type": "code",
   "execution_count": 67,
   "id": "ce5fd1fe",
   "metadata": {},
   "outputs": [
    {
     "data": {
      "text/plain": [
       "<Axes: >"
      ]
     },
     "execution_count": 67,
     "metadata": {},
     "output_type": "execute_result"
    },
    {
     "data": {
      "image/png": "[encoded data removed]",
      "text/plain": [
       "<Figure size 640x480 with 1 Axes>"
      ]
     },
     "metadata": {},
     "output_type": "display_data"
    }
   ],
   "source": [
    "feature_importance.sort_values(0, ascending=False).head(5).plot(kind='barh')"
   ]
  },
  {
   "cell_type": "markdown",
   "id": "dfbe9ff6",
   "metadata": {},
   "source": [
    "## We can see by the graph that these 3 variables have a strong importance when designing our decision trees.\n",
    "\n",
    "- VehicleAge : 0.703188\n",
    "- Warranty_Percent_of_Cost : 0.155696 \n",
    "- VehOdo : 0.141116"
   ]
  },
  {
   "cell_type": "markdown",
   "id": "6c53050f",
   "metadata": {},
   "source": [
    "## Second Model: We will be dropping off VehicleAge from our model and check the results\n",
    "\n",
    "df = original data frame\n",
    "\n",
    "cars2 = get dummies data frame"
   ]
  },
  {
   "cell_type": "code",
   "execution_count": 68,
   "id": "5f80081b",
   "metadata": {},
   "outputs": [],
   "source": [
    "cars2= pd.get_dummies(df)"
   ]
  },
  {
   "cell_type": "code",
   "execution_count": 69,
   "id": "ce6ff8d7",
   "metadata": {},
   "outputs": [],
   "source": [
    "feature_colums2 = cars2.drop(['IsBadBuy', 'VehicleAge'], axis=1).columns.tolist()"
   ]
  },
  {
   "cell_type": "markdown",
   "id": "eb901ce4",
   "metadata": {},
   "source": [
    "We no longer have isBadBuy and VehicleAge in the colums so we are good to proceed"
   ]
  },
  {
   "cell_type": "code",
   "execution_count": 70,
   "id": "5911d144",
   "metadata": {},
   "outputs": [],
   "source": [
    "X = cars2[feature_colums2] # features\n",
    "y = cars.IsBadBuy # Target variable"
   ]
  },
  {
   "cell_type": "code",
   "execution_count": 71,
   "id": "cec6abeb",
   "metadata": {},
   "outputs": [],
   "source": [
    "X_train2, X_test2, y_train2, y_test2 = train_test_split(X , y, test_size=0.33, random_state=1)"
   ]
  },
  {
   "cell_type": "code",
   "execution_count": 72,
   "id": "6a322c85",
   "metadata": {},
   "outputs": [],
   "source": [
    "from sklearn import tree"
   ]
  },
  {
   "cell_type": "code",
   "execution_count": 73,
   "id": "7751403f",
   "metadata": {},
   "outputs": [],
   "source": [
    "clf2 = tree.DecisionTreeClassifier(class_weight='balanced', max_depth=2)"
   ]
  },
  {
   "cell_type": "code",
   "execution_count": 74,
   "id": "30c53622",
   "metadata": {},
   "outputs": [],
   "source": [
    "clf2 = clf2.fit(X_train2, y_train2)"
   ]
  },
  {
   "cell_type": "code",
   "execution_count": 75,
   "id": "7b123841",
   "metadata": {},
   "outputs": [],
   "source": [
    "from sklearn import metrics"
   ]
  },
  {
   "cell_type": "code",
   "execution_count": 76,
   "id": "6c4043b7",
   "metadata": {},
   "outputs": [],
   "source": [
    "y_pred2 = clf2.predict(X_test2)"
   ]
  },
  {
   "cell_type": "markdown",
   "id": "d06ce5c3",
   "metadata": {},
   "source": [
    "### I'm going to skip the calculating each metric one by one. I will use the classification report as a summary of each calculation"
   ]
  },
  {
   "cell_type": "code",
   "execution_count": 77,
   "id": "87f03472",
   "metadata": {},
   "outputs": [
    {
     "name": "stdout",
     "output_type": "stream",
     "text": [
      "              precision    recall  f1-score   support\n",
      "\n",
      "           0       0.90      0.76      0.82      2131\n",
      "           1       0.22      0.43      0.29       330\n",
      "\n",
      "    accuracy                           0.72      2461\n",
      "   macro avg       0.56      0.60      0.56      2461\n",
      "weighted avg       0.80      0.72      0.75      2461\n",
      "\n"
     ]
    }
   ],
   "source": [
    "print(metrics.classification_report(y_test2, y_pred2))"
   ]
  },
  {
   "cell_type": "code",
   "execution_count": 78,
   "id": "6c85d2cd",
   "metadata": {},
   "outputs": [
    {
     "data": {
      "text/plain": [
       "[Text(0.5, 0.8333333333333334, 'node #0\\nVehYear <= 2004.5\\nsamples = 100.0%\\nvalue = [0.5, 0.5]\\nclass = Goodbuy'),\n",
       " Text(0.25, 0.5, '#1\\nWarranty_Percent_of_Cost <= 0.37\\n29.0%\\n[0.35, 0.65]\\nBad Buy'),\n",
       " Text(0.125, 0.16666666666666666, '#2\\n22.9%\\n[0.4, 0.6]\\nBad Buy'),\n",
       " Text(0.375, 0.16666666666666666, '#3\\n6.1%\\n[0.23, 0.77]\\nBad Buy'),\n",
       " Text(0.75, 0.5, '#4\\nVehOdo <= 72375.5\\n71.0%\\n[0.59, 0.41]\\nGoodbuy'),\n",
       " Text(0.625, 0.16666666666666666, '#5\\n36.5%\\n[0.67, 0.33]\\nGoodbuy'),\n",
       " Text(0.875, 0.16666666666666666, '#6\\n34.5%\\n[0.52, 0.48]\\nGoodbuy')]"
      ]
     },
     "execution_count": 78,
     "metadata": {},
     "output_type": "execute_result"
    },
    {
     "data": {
      "image/png": "[encoded data removed]",
      "text/plain": [
       "<Figure size 640x480 with 1 Axes>"
      ]
     },
     "metadata": {},
     "output_type": "display_data"
    }
   ],
   "source": [
    "tree.plot_tree(clf2, max_depth=2,\n",
    "              feature_names = feature_colums2,\n",
    "              class_names=['Goodbuy','Bad Buy'],\n",
    "              filled=True, precision=2,\n",
    "              node_ids=True, fontsize=12,\n",
    "              label='root', proportion=True,\n",
    "              impurity=False)\n"
   ]
  },
  {
   "cell_type": "markdown",
   "id": "8c7a92d7",
   "metadata": {},
   "source": [
    "### Second Model Interpretation: \n",
    "\n",
    "In the second model, we removed vehicle age as one of the variables in our model. We can see that this change has made an impact on the variables chosen in the decision tree. In the model, it predicts that a car that has a year less than 2004 and their Warranty Percent Cost of the Vehicle is higher than 37%, regardless of the choice, it will be a bad buy. However, if the car year is less than 2004 and their odometer is less than 72,375 miles then it will be a good buy. This is something that seems logical and expected. But not a very good model in my opinion because it repeats the use of warranty and the odometer as the main points to choose a car. \n",
    "\n",
    "The precision is 90%, the recall is 43% (less than the previous) and the accuracy is at 72%. Not a bad model, let's see what happens in the next one.\n",
    " \n",
    "\n",
    "              precision    recall  f1-score   support\n",
    "\n",
    "           0       0.90      0.76       0.82      2131\n",
    "           1       0.22      0.43       0.29       330\n",
    "\n",
    "    accuracy                            0.72      2461\n",
    "    macro avg       0.56      0.60      0.56      2461\n",
    "    weighted avg    0.80      0.72      0.75      2461\n",
    "\n"
   ]
  },
  {
   "cell_type": "markdown",
   "id": "4c719ed1",
   "metadata": {},
   "source": [
    "## Third Model:\n",
    "\n",
    "- We will be dropping off Warranty_Percent_of_Cost from our model and check the results\n",
    "\n",
    "df = original data frame\n",
    "\n",
    "cars3 = get dummies data frame"
   ]
  },
  {
   "cell_type": "code",
   "execution_count": 79,
   "id": "c256c526",
   "metadata": {},
   "outputs": [],
   "source": [
    "cars3= pd.get_dummies(df)"
   ]
  },
  {
   "cell_type": "code",
   "execution_count": 80,
   "id": "3e784b62",
   "metadata": {},
   "outputs": [],
   "source": [
    "feature_colums3 = cars3.drop(['IsBadBuy', 'Warranty_Percent_of_Cost'], axis=1).columns.tolist()"
   ]
  },
  {
   "cell_type": "markdown",
   "id": "78e97258",
   "metadata": {},
   "source": [
    "We no longer have isBadBuy and Warranty_Percent_of_Cost in the colums so we are good to proceed"
   ]
  },
  {
   "cell_type": "code",
   "execution_count": 81,
   "id": "42bd896d",
   "metadata": {},
   "outputs": [],
   "source": [
    "X = cars3[feature_colums3] # features\n",
    "y = cars3.IsBadBuy # Target variable"
   ]
  },
  {
   "cell_type": "code",
   "execution_count": 82,
   "id": "7610aba5",
   "metadata": {},
   "outputs": [],
   "source": [
    "X_train3, X_test3, y_train3, y_test3 = train_test_split(X , y, test_size=0.33, random_state=1)"
   ]
  },
  {
   "cell_type": "code",
   "execution_count": 83,
   "id": "c724380a",
   "metadata": {},
   "outputs": [],
   "source": [
    "from sklearn import tree"
   ]
  },
  {
   "cell_type": "code",
   "execution_count": 84,
   "id": "9a6477da",
   "metadata": {},
   "outputs": [],
   "source": [
    "clf3 = tree.DecisionTreeClassifier(class_weight='balanced', max_depth=2)"
   ]
  },
  {
   "cell_type": "code",
   "execution_count": 85,
   "id": "74e06c1d",
   "metadata": {},
   "outputs": [],
   "source": [
    "clf3 = clf3.fit(X_train3, y_train3)"
   ]
  },
  {
   "cell_type": "code",
   "execution_count": 86,
   "id": "0ae28624",
   "metadata": {},
   "outputs": [],
   "source": [
    "from sklearn import metrics"
   ]
  },
  {
   "cell_type": "code",
   "execution_count": 87,
   "id": "61f86b8b",
   "metadata": {},
   "outputs": [],
   "source": [
    "y_pred3 = clf3.predict(X_test3)"
   ]
  },
  {
   "cell_type": "markdown",
   "id": "3172ff8d",
   "metadata": {},
   "source": [
    "### I'm going to skip the calculating each metric one by one. I will use the classification report as a summary of each calculation"
   ]
  },
  {
   "cell_type": "code",
   "execution_count": 88,
   "id": "dd73a3d2",
   "metadata": {},
   "outputs": [
    {
     "name": "stdout",
     "output_type": "stream",
     "text": [
      "              precision    recall  f1-score   support\n",
      "\n",
      "           0       0.90      0.68      0.78      2131\n",
      "           1       0.20      0.52      0.29       330\n",
      "\n",
      "    accuracy                           0.66      2461\n",
      "   macro avg       0.55      0.60      0.54      2461\n",
      "weighted avg       0.81      0.66      0.71      2461\n",
      "\n"
     ]
    }
   ],
   "source": [
    "print(metrics.classification_report(y_test3, y_pred3))"
   ]
  },
  {
   "cell_type": "code",
   "execution_count": 89,
   "id": "a4ce50f4",
   "metadata": {},
   "outputs": [
    {
     "data": {
      "text/plain": [
       "[Text(0.5, 0.8333333333333334, 'node #0\\nVehicleAge <= 4.5\\nsamples = 100.0%\\nvalue = [0.5, 0.5]\\nclass = Goodbuy'),\n",
       " Text(0.25, 0.5, '#1\\nVehOdo <= 72375.5\\n61.4%\\n[0.62, 0.38]\\nGoodbuy'),\n",
       " Text(0.125, 0.16666666666666666, '#2\\n33.4%\\n[0.69, 0.31]\\nGoodbuy'),\n",
       " Text(0.375, 0.16666666666666666, '#3\\n28.0%\\n[0.54, 0.46]\\nGoodbuy'),\n",
       " Text(0.75, 0.5, '#4\\nVehOdo <= 56641.0\\n38.6%\\n[0.37, 0.63]\\nBad Buy'),\n",
       " Text(0.625, 0.16666666666666666, '#5\\n3.1%\\n[0.69, 0.31]\\nGoodbuy'),\n",
       " Text(0.875, 0.16666666666666666, '#6\\n35.5%\\n[0.36, 0.64]\\nBad Buy')]"
      ]
     },
     "execution_count": 89,
     "metadata": {},
     "output_type": "execute_result"
    },
    {
     "data": {
      "image/png": "[encoded data removed]",
      "text/plain": [
       "<Figure size 640x480 with 1 Axes>"
      ]
     },
     "metadata": {},
     "output_type": "display_data"
    }
   ],
   "source": [
    "tree.plot_tree(clf3, max_depth=2,\n",
    "              feature_names = feature_colums3,\n",
    "              class_names=['Goodbuy','Bad Buy'],\n",
    "              filled=True, precision=2,\n",
    "              node_ids=True, fontsize=12,\n",
    "              label='root', proportion=True,\n",
    "              impurity=False)\n"
   ]
  },
  {
   "cell_type": "markdown",
   "id": "750e3136",
   "metadata": {},
   "source": [
    "### Third Model Interpretation: \n",
    "\n",
    "In our third model, we have dropped the Warranty_Percent_of_Cost variable but kept the Vehicle Age. We can see how important this variable is to predict a good or bad buy. First, we can see that if the Vehicle age is less than 4.5 years and the Odometer has less than 72,375 miles. Then it's a good buy. On the next side, if the Vehicle has more than 4.5 years and their odometer is less than 56,641 miles, then it's a good buy. Otherwise, if the odometer is higher than the 56,641 miles and greater than those 4.5 years it's a bad buy. Overall, a good model to follow and very logical with numbers.\n",
    "\n",
    "Precision is the same at 90%, recall at 52% and accuracy at 66%. Overall, a good model, but the previous one had a higher accuracy.\n",
    "\n",
    "\n",
    "\n",
    "              precision    recall  f1-score   support\n",
    "\n",
    "           0       0.90      0.68      0.78      2131\n",
    "           1       0.20      0.52      0.29       330\n",
    "\n",
    "    accuracy                           0.66      2461\n",
    "    macro avg      0.55      0.60      0.54      2461\n",
    "    weighted avg   0.81      0.66      0.71      2461"
   ]
  },
  {
   "cell_type": "markdown",
   "id": "47ff83e9",
   "metadata": {},
   "source": [
    "## Extra Model becuase I'm curious how the tree would look\n",
    "\n",
    "- We will be eliminating the max_depth of the tree to see how the results look with all variables\n",
    "\n",
    "df = original data frame\n",
    "\n",
    "cars4 = get dummies data frame"
   ]
  },
  {
   "cell_type": "code",
   "execution_count": 90,
   "id": "6516588b",
   "metadata": {},
   "outputs": [],
   "source": [
    "cars4= pd.get_dummies(df)"
   ]
  },
  {
   "cell_type": "code",
   "execution_count": 91,
   "id": "e4feebc9",
   "metadata": {},
   "outputs": [],
   "source": [
    "feature_colums4 = cars4.drop(['IsBadBuy'], axis=1).columns.tolist()"
   ]
  },
  {
   "cell_type": "code",
   "execution_count": 92,
   "id": "bb535be5",
   "metadata": {},
   "outputs": [],
   "source": [
    "X = cars4[feature_colums4] # features\n",
    "y = cars4.IsBadBuy # Target variable"
   ]
  },
  {
   "cell_type": "code",
   "execution_count": 93,
   "id": "82500584",
   "metadata": {},
   "outputs": [],
   "source": [
    "X_train, X_test, y_train, y_test = train_test_split(X , y, test_size=0.33, random_state=1)"
   ]
  },
  {
   "cell_type": "code",
   "execution_count": 94,
   "id": "18b5c15c",
   "metadata": {},
   "outputs": [],
   "source": [
    "from sklearn import tree"
   ]
  },
  {
   "cell_type": "code",
   "execution_count": 95,
   "id": "dd43be33",
   "metadata": {},
   "outputs": [],
   "source": [
    "clf4 = tree.DecisionTreeClassifier(class_weight='balanced') #removed the max_depth"
   ]
  },
  {
   "cell_type": "code",
   "execution_count": 96,
   "id": "71c4bf27",
   "metadata": {},
   "outputs": [],
   "source": [
    "clf4 = clf4.fit(X_train, y_train)"
   ]
  },
  {
   "cell_type": "code",
   "execution_count": 97,
   "id": "5122ea9f",
   "metadata": {},
   "outputs": [],
   "source": [
    "from sklearn import metrics"
   ]
  },
  {
   "cell_type": "code",
   "execution_count": 98,
   "id": "d46915d7",
   "metadata": {},
   "outputs": [],
   "source": [
    "y_pred4 = clf4.predict(X_test)"
   ]
  },
  {
   "cell_type": "code",
   "execution_count": 99,
   "id": "34a92fe7",
   "metadata": {},
   "outputs": [
    {
     "name": "stdout",
     "output_type": "stream",
     "text": [
      "              precision    recall  f1-score   support\n",
      "\n",
      "           0       0.88      0.88      0.88      2131\n",
      "           1       0.21      0.20      0.21       330\n",
      "\n",
      "    accuracy                           0.79      2461\n",
      "   macro avg       0.54      0.54      0.54      2461\n",
      "weighted avg       0.79      0.79      0.79      2461\n",
      "\n"
     ]
    }
   ],
   "source": [
    "print(metrics.classification_report(y_test, y_pred4))"
   ]
  },
  {
   "cell_type": "code",
   "execution_count": 100,
   "id": "b3af8d2c",
   "metadata": {},
   "outputs": [
    {
     "data": {
      "text/plain": [
       "[Text(0.5, 0.8333333333333334, 'node #0\\nVehYear <= 2004.5\\nsamples = 100.0%\\nvalue = [0.5, 0.5]\\nclass = Goodbuy'),\n",
       " Text(0.25, 0.5, '#1\\nMiles_Per_Year <= 0.37\\n29.0%\\n[0.35, 0.65]\\nBad Buy'),\n",
       " Text(0.125, 0.16666666666666666, '#2\\n22.9%\\n[0.4, 0.6]\\nBad Buy'),\n",
       " Text(0.375, 0.16666666666666666, '#3\\n6.1%\\n[0.23, 0.77]\\nBad Buy'),\n",
       " Text(0.75, 0.5, '#4\\nVehicleAge <= 72375.5\\n71.0%\\n[0.59, 0.41]\\nGoodbuy'),\n",
       " Text(0.625, 0.16666666666666666, '#5\\n36.5%\\n[0.67, 0.33]\\nGoodbuy'),\n",
       " Text(0.875, 0.16666666666666666, '#6\\n34.5%\\n[0.52, 0.48]\\nGoodbuy')]"
      ]
     },
     "execution_count": 100,
     "metadata": {},
     "output_type": "execute_result"
    },
    {
     "data": {
      "image/png": "[encoded data removed]",
      "text/plain": [
       "<Figure size 640x480 with 1 Axes>"
      ]
     },
     "metadata": {},
     "output_type": "display_data"
    }
   ],
   "source": [
    "tree.plot_tree(clf2, max_depth=3,\n",
    "              feature_names = feature_colums4,\n",
    "              class_names=['Goodbuy','Bad Buy'],\n",
    "              filled=True, precision=2,\n",
    "              node_ids=True, fontsize=12,\n",
    "              label='root', proportion=True,\n",
    "              impurity=False)\n"
   ]
  },
  {
   "cell_type": "markdown",
   "id": "2abb4c68",
   "metadata": {},
   "source": [
    "### Extra Model Interpretation: \n",
    "\n",
    "We can immediately see the difference of the tree and the metrics. If the Vehicle year is less than 2004 and their miles per year are less than or equal to 0.37 miles. Then it's a bad buy overall. However, if the car is from 2004 or before and has 72,375 miles or less then it's a good buy. We start to see some patterns in the model to determine if it's a good or bad buy. \n",
    "\n",
    "We have precision at 88%, recall at 20% and accuracy at 79% (highest thus far). \n",
    "\n",
    "This is a very tempting model as well to be the champion, but I'm concerned about the recall being so low. It does not give me a lot of confidence that it provides relevant results.\n",
    "\n",
    "\n",
    "\n",
    "\n",
    "              precision    recall  f1-score   support\n",
    "\n",
    "           0       0.88      0.88      0.88      2131\n",
    "           1       0.21      0.20      0.21       330\n",
    "\n",
    "    accuracy                           0.79      2461\n",
    "    macro avg       0.54     0.54      0.54      2461\n",
    "    weighted avg    0.79     0.79      0.79      2461"
   ]
  },
  {
   "cell_type": "markdown",
   "id": "9501fb47",
   "metadata": {},
   "source": [
    "# Metrics Summary:\n",
    "\n",
    "#### First model metrics:\n",
    "\n",
    "          precision    recall  f1-score   support\n",
    "\n",
    "       0       0.90      0.66      0.76      2131\n",
    "       1       0.20      0.55      0.29       330\n",
    "       \n",
    "    accuracy                       0.64      2461\n",
    "    macro avg  0.55      0.61      0.53      2461\n",
    "    weighted avg 0.81    0.64      0.70      2461\n",
    "\n",
    "#### Second Model Metrics:\n",
    "\n",
    "             precision    recall  f1-score   support\n",
    "\n",
    "           0       0.90      0.76       0.82      2131\n",
    "           1       0.22      0.43       0.29       330\n",
    "\n",
    "    accuracy                            0.72      2461\n",
    "    macro avg       0.56      0.60      0.56      2461\n",
    "    weighted avg    0.80      0.72      0.75      2461\n",
    "\n",
    "#### Third Model Metrics: \n",
    "\n",
    "              precision    recall  f1-score   support\n",
    "\n",
    "           0       0.90      0.68      0.78      2131\n",
    "           1       0.20      0.52      0.29       330\n",
    "\n",
    "    accuracy                           0.66      2461\n",
    "    macro avg      0.55      0.60      0.54      2461\n",
    "    weighted avg   0.81      0.66      0.71      2461\n",
    "\n",
    "#### Extra Model Metrics:\n",
    "\n",
    "              precision    recall  f1-score   support\n",
    "\n",
    "           0       0.88      0.88      0.88      2131\n",
    "           1       0.21      0.20      0.21       330\n",
    "\n",
    "    accuracy                           0.79      2461\n",
    "    macro avg       0.54     0.54      0.54      2461\n",
    "    weighted avg    0.79     0.79      0.79      2461\n"
   ]
  },
  {
   "cell_type": "markdown",
   "id": "31ceedab",
   "metadata": {},
   "source": [
    "## Step 8 - Pick a Champion model\n",
    "\n",
    "I'm between my first and third model because I'm taking into account precision, recall and accuracy numbers. However, I will choose my first model as my champion because it has the strongest and most balanced metrics thus far. It also considers different variables such as vehicle age, vehicle odometer and warranty percent cost that can make the decision of purchasing a car easier and more understandable to other people.\n",
    "\n",
    "          precision    recall  f1-score   support\n",
    "\n",
    "       0       0.90      0.66      0.76      2131\n",
    "       1       0.20      0.55      0.29       330\n",
    "       \n",
    "    accuracy                       0.64      2461\n",
    "    macro avg  0.55      0.61      0.53      2461\n",
    "    weighted avg 0.81    0.64      0.70      2461\n"
   ]
  },
  {
   "cell_type": "code",
   "execution_count": 101,
   "id": "53a1551b",
   "metadata": {},
   "outputs": [
    {
     "data": {
      "text/plain": [
       "[Text(0.5, 0.8333333333333334, 'node #0\\nVehicleAge <= 4.5\\nsamples = 100.0%\\nvalue = [0.5, 0.5]\\nclass = Goodbuy'),\n",
       " Text(0.25, 0.5, '#1\\nVehOdo <= 72375.5\\n61.4%\\n[0.62, 0.38]\\nGoodbuy'),\n",
       " Text(0.125, 0.16666666666666666, '#2\\n33.4%\\n[0.69, 0.31]\\nGoodbuy'),\n",
       " Text(0.375, 0.16666666666666666, '#3\\n28.0%\\n[0.54, 0.46]\\nGoodbuy'),\n",
       " Text(0.75, 0.5, '#4\\nWarranty_Percent_of_Cost <= 0.32\\n38.6%\\n[0.37, 0.63]\\nBad Buy'),\n",
       " Text(0.625, 0.16666666666666666, '#5\\n29.6%\\n[0.43, 0.57]\\nBad Buy'),\n",
       " Text(0.875, 0.16666666666666666, '#6\\n9.1%\\n[0.25, 0.75]\\nBad Buy')]"
      ]
     },
     "execution_count": 101,
     "metadata": {},
     "output_type": "execute_result"
    },
    {
     "data": {
      "image/png": "[encoded data removed]",
      "text/plain": [
       "<Figure size 640x480 with 1 Axes>"
      ]
     },
     "metadata": {},
     "output_type": "display_data"
    }
   ],
   "source": [
    "tree.plot_tree(clf, max_depth=2,\n",
    "              feature_names = feature_colums,\n",
    "              class_names=['Goodbuy','Bad Buy'],\n",
    "              filled=True, precision=2,\n",
    "              node_ids=True, fontsize=12,\n",
    "              label='root', proportion=True,\n",
    "              impurity=False)\n"
   ]
  },
  {
   "cell_type": "code",
   "execution_count": null,
   "id": "9776e001",
   "metadata": {},
   "outputs": [],
   "source": []
  }
 ],
 "metadata": {
  "kernelspec": {
   "display_name": "Python 3 (ipykernel)",
   "language": "python",
   "name": "python3"
  },
  "language_info": {
   "codemirror_mode": {
    "name": "ipython",
    "version": 3
   },
   "file_extension": ".py",
   "mimetype": "text/x-python",
   "name": "python",
   "nbconvert_exporter": "python",
   "pygments_lexer": "ipython3",
   "version": "3.11.4"
  }
 },
 "nbformat": 4,
 "nbformat_minor": 5
}
